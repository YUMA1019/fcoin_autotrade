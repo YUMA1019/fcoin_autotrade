{
 "cells": [
  {
   "cell_type": "code",
   "execution_count": 2,
   "metadata": {},
   "outputs": [],
   "source": [
    "import os\n",
    "import sys\n",
    "import pprint\n",
    "import pandas as pd\n",
    "\n",
    "# fcoin APIを使用するためのモジュールパスを設定\n",
    "sys.path.append(\"../fcoin-python-sdk\")\n",
    "sys.path.append(\"../common_python\")\n",
    "#print(sys.path)\n",
    "\n",
    "from fcoin3 import Fcoin #if python3 use fcoin3 → from fcoin3 import Fcoin\n",
    "from common import Common\n",
    "\n",
    "file_name = \"../keys.csv\"\n",
    "\n",
    "common = Common()\n",
    "token = common.get_csv_val_by_key(file_name, \"line_token\")\n",
    "common.set_line_token(token)"
   ]
  },
  {
   "cell_type": "code",
   "execution_count": 55,
   "metadata": {},
   "outputs": [
    {
     "name": "stdout",
     "output_type": "stream",
     "text": [
      "6354.5\n"
     ]
    }
   ],
   "source": [
    "fcoin = Fcoin()\n",
    "\n",
    "data = pd.DataFrame(fcoin.get_market_ticker(\"btcusdt\"))\n",
    "latest_price = data.at[\"ticker\",\"data\"][0]\n",
    "print(latest_price)\n",
    "common.line_notify(\"BTC/USDT 最新価格： \" + str(latest_price)) \n",
    "\n",
    "#print(fcoin.get_symbols())\n",
    "\n",
    "#print(fcoin.get_currencies())\n",
    "\n",
    "#fcoin.auth('you-key', 'you-secret') \n",
    "\n",
    "#print(fcoin.get_balance())\n",
    "\n",
    "#print(fcoin.buy('fteth', 0.0001, 10))\n",
    "#print(fcoin.sell('fteth', 0.002, 5))\n",
    "#print(fcoin.cancel_order('6TfBZ-eORp4_2nO5ar6zhg0gLLvuWzTTmL1OzOy9OYg='))\n",
    "#print(fcoin.get_candle('M1','fteth'))"
   ]
  }
 ],
 "metadata": {
  "kernelspec": {
   "display_name": "Python 3",
   "language": "python",
   "name": "python3"
  },
  "language_info": {
   "codemirror_mode": {
    "name": "ipython",
    "version": 3
   },
   "file_extension": ".py",
   "mimetype": "text/x-python",
   "name": "python",
   "nbconvert_exporter": "python",
   "pygments_lexer": "ipython3",
   "version": "3.7.0"
  }
 },
 "nbformat": 4,
 "nbformat_minor": 2
}
