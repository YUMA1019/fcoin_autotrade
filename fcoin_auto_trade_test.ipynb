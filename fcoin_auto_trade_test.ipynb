{
 "cells": [
  {
   "cell_type": "code",
   "execution_count": 1,
   "metadata": {},
   "outputs": [],
   "source": [
    "import os\n",
    "import sys\n",
    "import pprint\n",
    "import pandas as pd\n",
    "\n",
    "# fcoin APIを使用するためのモジュールパスを設定\n",
    "sys.path.append(\"../fcoin-python-sdk\")\n",
    "sys.path.append(\"../common_python\")\n",
    "#print(sys.path)\n",
    "\n",
    "from fcoin3 import Fcoin #if python3 use fcoin3 → #from fcoin3 import Fcoin\n",
    "from common import Common\n",
    "\n",
    "file_name = \"../key.csv\"\n",
    "common = Common()\n",
    "common.set_line_token(file_name, 0, 1)"
   ]
  },
  {
   "cell_type": "code",
   "execution_count": 2,
   "metadata": {},
   "outputs": [
    {
     "data": {
      "text/html": [
       "<div>\n",
       "<style scoped>\n",
       "    .dataframe tbody tr th:only-of-type {\n",
       "        vertical-align: middle;\n",
       "    }\n",
       "\n",
       "    .dataframe tbody tr th {\n",
       "        vertical-align: top;\n",
       "    }\n",
       "\n",
       "    .dataframe thead th {\n",
       "        text-align: right;\n",
       "    }\n",
       "</style>\n",
       "<table border=\"1\" class=\"dataframe\">\n",
       "  <thead>\n",
       "    <tr style=\"text-align: right;\">\n",
       "      <th></th>\n",
       "      <th>amount_decimal</th>\n",
       "      <th>base_currency</th>\n",
       "      <th>name</th>\n",
       "      <th>price_decimal</th>\n",
       "      <th>quote_currency</th>\n",
       "      <th>tradable</th>\n",
       "    </tr>\n",
       "  </thead>\n",
       "  <tbody>\n",
       "    <tr>\n",
       "      <th>0</th>\n",
       "      <td>4</td>\n",
       "      <td>btc</td>\n",
       "      <td>btcusdt</td>\n",
       "      <td>2</td>\n",
       "      <td>usdt</td>\n",
       "      <td>True</td>\n",
       "    </tr>\n",
       "  </tbody>\n",
       "</table>\n",
       "</div>"
      ],
      "text/plain": [
       "   amount_decimal base_currency     name  price_decimal quote_currency  \\\n",
       "0               4           btc  btcusdt              2           usdt   \n",
       "\n",
       "   tradable  \n",
       "0      True  "
      ]
     },
     "execution_count": 2,
     "metadata": {},
     "output_type": "execute_result"
    }
   ],
   "source": [
    "fcoin = Fcoin()\n",
    "\n",
    "temp = pd.DataFrame(fcoin.get_symbols())\n",
    "temp.head(1)\n",
    "\n",
    "#print(fcoin.get_symbols())\n",
    "\n",
    "#print(fcoin.get_currencies())\n",
    "\n",
    "#fcoin.auth('you-key', 'you-secret') \n",
    "\n",
    "#print(fcoin.get_balance())\n",
    "\n",
    "#print(fcoin.buy('fteth', 0.0001, 10))\n",
    "#print(fcoin.sell('fteth', 0.002, 5))\n",
    "#print(fcoin.cancel_order('6TfBZ-eORp4_2nO5ar6zhg0gLLvuWzTTmL1OzOy9OYg='))\n",
    "#print(fcoin.get_candle('M1','fteth'))"
   ]
  }
 ],
 "metadata": {
  "kernelspec": {
   "display_name": "Python 3",
   "language": "python",
   "name": "python3"
  },
  "language_info": {
   "codemirror_mode": {
    "name": "ipython",
    "version": 3
   },
   "file_extension": ".py",
   "mimetype": "text/x-python",
   "name": "python",
   "nbconvert_exporter": "python",
   "pygments_lexer": "ipython3",
   "version": "3.7.0"
  }
 },
 "nbformat": 4,
 "nbformat_minor": 2
}
